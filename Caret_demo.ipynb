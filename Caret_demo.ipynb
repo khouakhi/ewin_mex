{
 "cells": [
  {
   "cell_type": "markdown",
   "metadata": {},
   "source": [
    "### This is a carte test\n"
   ]
  },
  {
   "cell_type": "markdown",
   "metadata": {},
   "source": [
    "[![Binder](http://mybinder.org/badge_logo.svg)](http://mybinder.org/v2/gh/khouakhi/ewin_mex/master?filepath=Caret_demo.ipynb)"
   ]
  },
  {
   "cell_type": "code",
   "execution_count": 1,
   "metadata": {},
   "outputs": [
    {
     "name": "stderr",
     "output_type": "stream",
     "text": [
      "Loading required package: lattice\n",
      "Loading required package: ggplot2\n",
      "Registered S3 methods overwritten by 'ggplot2':\n",
      "  method         from \n",
      "  [.quosures     rlang\n",
      "  c.quosures     rlang\n",
      "  print.quosures rlang\n"
     ]
    },
    {
     "name": "stdout",
     "output_type": "stream",
     "text": [
      " int [1:157, 1] 1 2 3 4 5 7 10 11 12 13 ...\n",
      " - attr(*, \"dimnames\")=List of 2\n",
      "  ..$ : NULL\n",
      "  ..$ : chr \"Resample1\"\n"
     ]
    }
   ],
   "source": [
    "library(caret)\n",
    "library(mlbench)\n",
    "data(Sonar)\n",
    "\n",
    "set.seed(107)\n",
    "inTrain <- createDataPartition(\n",
    "  y = Sonar$Class,\n",
    "  ## the outcome data are needed\n",
    "  p = .75,\n",
    "  ## The percentage of data in the\n",
    "  ## training set\n",
    "  list = FALSE\n",
    ")\n",
    "## The format of the results\n",
    "\n",
    "## The output is a set of integers for the rows of Sonar\n",
    "## that belong in the training set.\n",
    "str(inTrain)"
   ]
  },
  {
   "cell_type": "code",
   "execution_count": 2,
   "metadata": {},
   "outputs": [
    {
     "data": {
      "text/html": [
       "157"
      ],
      "text/latex": [
       "157"
      ],
      "text/markdown": [
       "157"
      ],
      "text/plain": [
       "[1] 157"
      ]
     },
     "metadata": {},
     "output_type": "display_data"
    },
    {
     "data": {
      "text/html": [
       "51"
      ],
      "text/latex": [
       "51"
      ],
      "text/markdown": [
       "51"
      ],
      "text/plain": [
       "[1] 51"
      ]
     },
     "metadata": {},
     "output_type": "display_data"
    }
   ],
   "source": [
    "training <- Sonar[ inTrain,]\n",
    "testing  <- Sonar[-inTrain,]\n",
    "\n",
    "nrow(training)\n",
    "nrow(testing)\n"
   ]
  },
  {
   "cell_type": "code",
   "execution_count": 5,
   "metadata": {},
   "outputs": [],
   "source": [
    "plsFit <- train(\n",
    "  Class ~ .,\n",
    "  data = training,\n",
    "  method = \"pls\",\n",
    "  ## Center and scale the predictors for the training\n",
    "  ## set and all future samples.\n",
    "  preProc = c(\"center\", \"scale\")\n",
    ")"
   ]
  },
  {
   "cell_type": "code",
   "execution_count": 7,
   "metadata": {},
   "outputs": [],
   "source": [
    "plsFit <- train(\n",
    "  Class ~ .,\n",
    "  data = training,\n",
    "  method = \"pls\",\n",
    "  preProc = c(\"center\", \"scale\"),\n",
    "  ## added:\n",
    "  tuneLength = 15\n",
    ")"
   ]
  },
  {
   "cell_type": "code",
   "execution_count": 8,
   "metadata": {},
   "outputs": [],
   "source": [
    "ctrl <- trainControl(method = \"repeatedcv\", repeats = 3)\n",
    "\n",
    "plsFit <- train(\n",
    "  Class ~ .,\n",
    "  data = training,\n",
    "  method = \"pls\",\n",
    "  preProc = c(\"center\", \"scale\"),\n",
    "  tuneLength = 15,\n",
    "  ## added:\n",
    "  trControl = ctrl\n",
    ")"
   ]
  },
  {
   "cell_type": "code",
   "execution_count": 9,
   "metadata": {},
   "outputs": [
    {
     "data": {
      "text/plain": [
       "Partial Least Squares \n",
       "\n",
       "157 samples\n",
       " 60 predictor\n",
       "  2 classes: 'M', 'R' \n",
       "\n",
       "Pre-processing: centered (60), scaled (60) \n",
       "Resampling: Cross-Validated (10 fold, repeated 3 times) \n",
       "Summary of sample sizes: 141, 141, 142, 142, 141, 142, ... \n",
       "Resampling results across tuning parameters:\n",
       "\n",
       "  ncomp  ROC        Sens       Spec     \n",
       "   1     0.8052910  0.7259259  0.6904762\n",
       "   2     0.8479084  0.7495370  0.8005952\n",
       "   3     0.8488426  0.7638889  0.7476190\n",
       "   4     0.8355241  0.7652778  0.7357143\n",
       "   5     0.8124173  0.7481481  0.7547619\n",
       "   6     0.7887566  0.7236111  0.6988095\n",
       "   7     0.7938161  0.7439815  0.6892857\n",
       "   8     0.8012235  0.7393519  0.6982143\n",
       "   9     0.7932126  0.7578704  0.6767857\n",
       "  10     0.7895916  0.7412037  0.6904762\n",
       "  11     0.7868386  0.7416667  0.7101190\n",
       "  12     0.7773479  0.7365741  0.7148810\n",
       "  13     0.7715608  0.7375000  0.7000000\n",
       "  14     0.7678902  0.7175926  0.6904762\n",
       "  15     0.7679729  0.7148148  0.6898810\n",
       "\n",
       "ROC was used to select the optimal model using the largest value.\n",
       "The final value used for the model was ncomp = 3."
      ]
     },
     "metadata": {},
     "output_type": "display_data"
    }
   ],
   "source": [
    "ctrl <- trainControl(\n",
    "  method = \"repeatedcv\", \n",
    "  repeats = 3,\n",
    "  classProbs = TRUE, \n",
    "  summaryFunction = twoClassSummary\n",
    ")\n",
    "\n",
    "set.seed(123)\n",
    "plsFit <- train(\n",
    "  Class ~ .,\n",
    "  data = training,\n",
    "  method = \"pls\",\n",
    "  preProc = c(\"center\", \"scale\"),\n",
    "  tuneLength = 15,\n",
    "  trControl = ctrl,\n",
    "  metric = \"ROC\"\n",
    ")\n",
    "plsFit"
   ]
  },
  {
   "cell_type": "code",
   "execution_count": 10,
   "metadata": {},
   "outputs": [
    {
     "data": {
      "image/png": "[encoded data removed]",
      "text/plain": [
       "plot without title"
      ]
     },
     "metadata": {},
     "output_type": "display_data"
    }
   ],
   "source": [
    "ggplot(plsFit)"
   ]
  },
  {
   "cell_type": "code",
   "execution_count": null,
   "metadata": {},
   "outputs": [],
   "source": []
  }
 ],
 "metadata": {
  "kernelspec": {
   "display_name": "R",
   "language": "R",
   "name": "ir"
  },
  "language_info": {
   "codemirror_mode": "r",
   "file_extension": ".r",
   "mimetype": "text/x-r-source",
   "name": "R",
   "pygments_lexer": "r",
   "version": "3.6.1"
  }
 },
 "nbformat": 4,
 "nbformat_minor": 2
}
